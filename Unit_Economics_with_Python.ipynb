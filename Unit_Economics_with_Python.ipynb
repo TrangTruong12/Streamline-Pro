{
  "nbformat": 4,
  "nbformat_minor": 0,
  "metadata": {
    "colab": {
      "provenance": []
    },
    "kernelspec": {
      "name": "python3",
      "display_name": "Python 3"
    },
    "language_info": {
      "name": "python"
    }
  },
  "cells": [
    {
      "cell_type": "markdown",
      "source": [
        "#Introduction"
      ],
      "metadata": {
        "id": "sCDOkzWTWKe5"
      }
    },
    {
      "cell_type": "markdown",
      "source": [
        "Streamline Pro is a comprehensive project management and collaboration tool designed to help businesses manage projects, track progress, and collaborate efficiently. Understanding the unit economics of Streamline Pro is crucial for evaluating its financial health and sustainability. This involves analysing key metrics such as Customer Acquisition Cost (CAC), Average Revenue Per User (ARPU), Cost of Goods Sold (COGS), Gross Margin, Customer Lifetime Value (LTV), and the LTV/CAC ratio."
      ],
      "metadata": {
        "id": "WD7cqmELWOmH"
      }
    },
    {
      "cell_type": "markdown",
      "source": [
        "#Unit Economics"
      ],
      "metadata": {
        "id": "3xXSWXPLV27x"
      }
    },
    {
      "cell_type": "markdown",
      "source": [
        "##Import data"
      ],
      "metadata": {
        "id": "HXLCfHZpWB6F"
      }
    },
    {
      "cell_type": "code",
      "execution_count": 1,
      "metadata": {
        "id": "TdMpEuLfOn9T"
      },
      "outputs": [],
      "source": [
        "import pandas as pd\n"
      ]
    },
    {
      "cell_type": "code",
      "source": [
        "def read_file(url, month_col=None):\n",
        "    df = pd.read_excel('https://docs.google.com/spreadsheets/d/' + url + '/export?format=xlsx')\n",
        "    if month_col is not None:\n",
        "        df_03_2023 = df[(df[month_col].dt.month == 3) & (df[month_col].dt.year == 2023)]\n",
        "        return df_03_2023\n",
        "    else:\n",
        "        return df\n",
        "\n",
        "# Reading the data using the function\n",
        "df_customer_lifespan_data = read_file(url = '1by8tPHwOnq3uKYK2E7sA9VBUYoPM4p1Rnrm_Ss9cyHI')\n",
        "df_daily_marketing_spendings = read_file(url = '1AZOIThOV4P-0eYDge53ZwumVkfkHoYPWxst3k3Bv87c', month_col = \"date\")\n",
        "df_monthly_expenses = read_file(url = '10OGbaywwMIqKgnPGy8VDvpBVtjyqln47iYa2lFhI9Mw', month_col = \"month\")\n",
        "df_payroll = read_file(url = '1c_WihqTZCQvNgxzmd-OwhR9i5diwtfxXVLyMn8R-Lp4', month_col = \"month\")\n",
        "df_receipts_history = read_file(url = '1qayqML1zCKdmtzutkcy9LWvE6xFRm6TGBEVkHHJKIuE', month_col = \"date\")"
      ],
      "metadata": {
        "id": "8btBwkEvU0Yg"
      },
      "execution_count": 2,
      "outputs": []
    },
    {
      "cell_type": "markdown",
      "source": [
        "## CAC"
      ],
      "metadata": {
        "id": "kM6lERxRlBiP"
      }
    },
    {
      "cell_type": "code",
      "source": [
        "# Calculate online ads cost\n",
        "online_ads_cost = df_daily_marketing_spendings['spending'].sum()\n",
        "\n",
        "# Calculate salary for Sales and Marketing departments\n",
        "sale_salary = df_payroll[df_payroll['department'].isin([\"Sales\", \"Marketing\"])]['paid'].sum()\n",
        "\n",
        "# Calculate the marketing software cost for \"Salesforce\"\n",
        "marketing_software_cost = df_monthly_expenses[df_monthly_expenses['item'] == \"Salesforce\"]['amount'].sum()\n",
        "\n",
        "# Calculate total Sales and Marketing expenses\n",
        "total_sale_mkt_expenses = online_ads_cost + sale_salary + marketing_software_cost"
      ],
      "metadata": {
        "id": "4Einws1Zhsxj"
      },
      "execution_count": 4,
      "outputs": []
    },
    {
      "cell_type": "code",
      "source": [
        "new_cus_count = df_receipts_history['new_customer'].sum()"
      ],
      "metadata": {
        "id": "mAYxGPL4httf"
      },
      "execution_count": 5,
      "outputs": []
    },
    {
      "cell_type": "code",
      "source": [
        "CAC = total_sale_mkt_expenses/new_cus_count"
      ],
      "metadata": {
        "id": "Pa13AmdCht0X"
      },
      "execution_count": 6,
      "outputs": []
    },
    {
      "cell_type": "code",
      "source": [
        "print(\"CAC =\",round(CAC,3))"
      ],
      "metadata": {
        "colab": {
          "base_uri": "https://localhost:8080/"
        },
        "id": "eNOultM3ht5R",
        "outputId": "31bbd5e6-66f5-442f-e5a2-bdfd7d02d6c9"
      },
      "execution_count": 7,
      "outputs": [
        {
          "output_type": "stream",
          "name": "stdout",
          "text": [
            "CAC = 1213.968\n"
          ]
        }
      ]
    },
    {
      "cell_type": "markdown",
      "source": [
        "##ARPU"
      ],
      "metadata": {
        "id": "5jAXmahvmmdO"
      }
    },
    {
      "cell_type": "code",
      "source": [
        "revenue = df_receipts_history['receipt_amount'].sum()"
      ],
      "metadata": {
        "id": "tIavrkb4mr3a"
      },
      "execution_count": 8,
      "outputs": []
    },
    {
      "cell_type": "code",
      "source": [
        "num_cus = len(df_receipts_history['customer_id'].unique())"
      ],
      "metadata": {
        "id": "9JsBKMfrmsqL"
      },
      "execution_count": 9,
      "outputs": []
    },
    {
      "cell_type": "code",
      "source": [
        "arpu = revenue/num_cus"
      ],
      "metadata": {
        "id": "73xF10RbmsuL"
      },
      "execution_count": 10,
      "outputs": []
    },
    {
      "cell_type": "code",
      "source": [
        "print(\"ARPU =\",round(arpu,3))"
      ],
      "metadata": {
        "colab": {
          "base_uri": "https://localhost:8080/"
        },
        "id": "mETQG53wmsyi",
        "outputId": "768a75d5-7247-4d62-800b-f43e654ebdfe"
      },
      "execution_count": null,
      "outputs": [
        {
          "output_type": "stream",
          "name": "stdout",
          "text": [
            "ARPU = 284.36\n"
          ]
        }
      ]
    },
    {
      "cell_type": "markdown",
      "source": [
        "##COGS"
      ],
      "metadata": {
        "id": "Yd8u_UuEofHC"
      }
    },
    {
      "cell_type": "code",
      "source": [
        "server_and_software_licences = df_monthly_expenses[df_monthly_expenses['item'].isin(['AWS Hosting', 'Google Cloud Storage', 'Atlassian Jira','Slack', 'Zoom'])]['amount'].sum()"
      ],
      "metadata": {
        "id": "HcR7e4fvohzt"
      },
      "execution_count": 11,
      "outputs": []
    },
    {
      "cell_type": "code",
      "source": [
        "salary_engineering = df_payroll[df_payroll['department'] == 'Engineering']['paid'].sum()"
      ],
      "metadata": {
        "id": "rcFBCgLtojXK"
      },
      "execution_count": 12,
      "outputs": []
    },
    {
      "cell_type": "code",
      "source": [
        "cogs = server_and_software_licences + salary_engineering"
      ],
      "metadata": {
        "id": "ltwp0wdyojj8"
      },
      "execution_count": 13,
      "outputs": []
    },
    {
      "cell_type": "code",
      "source": [
        "print(\"COGS =\",cogs)"
      ],
      "metadata": {
        "colab": {
          "base_uri": "https://localhost:8080/"
        },
        "id": "TF8wm5LvG2VF",
        "outputId": "8ea3e2dd-8e2f-40d4-c5bf-ad0b4b82f030"
      },
      "execution_count": 15,
      "outputs": [
        {
          "output_type": "stream",
          "name": "stdout",
          "text": [
            "COGS = 20840\n"
          ]
        }
      ]
    },
    {
      "cell_type": "markdown",
      "source": [
        "##GROSS MARGIN"
      ],
      "metadata": {
        "id": "9fMV8zK_HC-j"
      }
    },
    {
      "cell_type": "code",
      "source": [
        "gross_margin = (revenue - cogs)/revenue * 100"
      ],
      "metadata": {
        "id": "9T7aXpMmHQGY"
      },
      "execution_count": 16,
      "outputs": []
    },
    {
      "cell_type": "code",
      "source": [
        "print(\"Gross Margin =\",round(gross_margin,3),\"%\")"
      ],
      "metadata": {
        "colab": {
          "base_uri": "https://localhost:8080/"
        },
        "id": "PEFiOMuaHRm0",
        "outputId": "a048f1a9-89af-446d-b4aa-ded777fe2b86"
      },
      "execution_count": 17,
      "outputs": [
        {
          "output_type": "stream",
          "name": "stdout",
          "text": [
            "Gross Margin = 74.902 %\n"
          ]
        }
      ]
    },
    {
      "cell_type": "markdown",
      "source": [
        "##LTV"
      ],
      "metadata": {
        "id": "TAAAlZJXIH6O"
      }
    },
    {
      "cell_type": "code",
      "source": [
        "# Ensure 'signup_date' and 'churn_date' are in datetime format\n",
        "df_customer_lifespan_data['start_date'] = pd.to_datetime(df_customer_lifespan_data['start_date'])\n",
        "df_customer_lifespan_data['churn_date'] = pd.to_datetime(df_customer_lifespan_data['churn_date'])\n",
        "\n",
        "# Calculate the lifespan in months\n",
        "df_customer_lifespan_data['lifespan_months'] = (df_customer_lifespan_data['churn_date'] - df_customer_lifespan_data['start_date']).dt.days / 30\n",
        "\n",
        "# Calculate the average lifespan in months\n",
        "avg_lifespan_months = df_customer_lifespan_data['lifespan_months'].mean()"
      ],
      "metadata": {
        "id": "9HNNaJ--Nj7H"
      },
      "execution_count": 30,
      "outputs": []
    },
    {
      "cell_type": "code",
      "source": [
        "ltv = arpu*gross_margin*avg_lifespan_months"
      ],
      "metadata": {
        "id": "EVkbt56YHSWF"
      },
      "execution_count": 32,
      "outputs": []
    },
    {
      "cell_type": "code",
      "source": [
        "print(\"LTV =\",round(ltv,3),\"$\")"
      ],
      "metadata": {
        "colab": {
          "base_uri": "https://localhost:8080/"
        },
        "id": "GBKxWQYON_oR",
        "outputId": "ac0b240c-fd2a-466c-acf0-322d2ae1027f"
      },
      "execution_count": 34,
      "outputs": [
        {
          "output_type": "stream",
          "name": "stdout",
          "text": [
            "LTV = 209610.289 $\n"
          ]
        }
      ]
    },
    {
      "cell_type": "markdown",
      "source": [
        "##LTV/CAC"
      ],
      "metadata": {
        "id": "-LdNt70LIKnN"
      }
    },
    {
      "cell_type": "code",
      "source": [
        "ltv_per_cac = ltv/CAC"
      ],
      "metadata": {
        "id": "0u4e7zFlINSk"
      },
      "execution_count": 36,
      "outputs": []
    },
    {
      "cell_type": "code",
      "source": [
        "print(\"LTV/CAC =\",round(ltv_per_cac,3))"
      ],
      "metadata": {
        "colab": {
          "base_uri": "https://localhost:8080/"
        },
        "id": "79FIZ-VrINyv",
        "outputId": "140b85f3-fedd-4633-ea48-a13aa22eed7f"
      },
      "execution_count": 37,
      "outputs": [
        {
          "output_type": "stream",
          "name": "stdout",
          "text": [
            "LTV/CAC = 172.665\n"
          ]
        }
      ]
    },
    {
      "cell_type": "markdown",
      "source": [
        "#Conclusion:"
      ],
      "metadata": {
        "id": "Ne-g4e4WQTXz"
      }
    },
    {
      "cell_type": "markdown",
      "source": [
        "Streamline Pro has demonstrated a strong potential for sustainable growth and profitability. \\\n",
        "With a Customer Acquition Cost \\(CAC) of \\$1,213.97 and a Lifetime Value of \\$209,610.29, the company is generating significant returns per customer.\\\n",
        "The LTV/CAC ratio of 172.67 indicates that for every dollar spent on acquiring a customer, the company can expect to generate over 172 times that amount in revenue, which is a strong sign of business efficiency and profitability.\\\n",
        "Moreover, with an ARPU of $284.36 and a gross margin of 774.9%, Streamline Pro is effectively managing its costs and generating a high level of value per user, while maintaining healthy profit margins.These figures highlight the company's ability to deliver both operational and financial efficiency.\\\n",
        "In sumary, Streamline Pro's Robust financial metrics suggest that it is on a strong growth trajectory with a profitable customer base and a solid business model. The company's effective cost management, coupled with its strong customer value proposition, positions it well for continued success in the market."
      ],
      "metadata": {
        "id": "FKAJB2pARTcL"
      }
    }
  ]
}